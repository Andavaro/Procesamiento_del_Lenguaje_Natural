{
  "cells": [
    {
      "cell_type": "markdown",
      "metadata": {
        "id": "sZd5yLnnHOK0"
      },
      "source": [
        "<img src=\"https://github.com/hernancontigiani/ceia_memorias_especializacion/raw/master/Figures/logoFIUBA.jpg\" width=\"500\" align=\"center\">\n",
        "\n",
        "\n",
        "# Procesamiento de lenguaje natural\n",
        "## Custom embedddings con Gensim\n",
        "\n"
      ]
    },
    {
      "cell_type": "markdown",
      "metadata": {
        "id": "vA7nqkumo9z9"
      },
      "source": [
        "### Objetivo\n",
        "El objetivo es utilizar documentos / corpus para crear embeddings de palabras basado en ese contexto. Se utilizará el libro La vuelta al mundo en 80 días para generar los embeddings."
      ]
    },
    {
      "cell_type": "code",
      "execution_count": null,
      "metadata": {
        "id": "lFToQs5FK5uZ"
      },
      "outputs": [],
      "source": [
        "import pandas as pd\n",
        "import matplotlib.pyplot as plt\n",
        "import seaborn as sns\n",
        "\n",
        "import multiprocessing\n",
        "from gensim.models import Word2Vec"
      ]
    },
    {
      "cell_type": "markdown",
      "metadata": {
        "id": "g07zJxG7H9vG"
      },
      "source": [
        "### Datos\n",
        "Utilizamos como dataset el libro La vuelta al mundo en 80 días, de Julio Verne, como corpus."
      ]
    },
    {
      "cell_type": "code",
      "execution_count": null,
      "metadata": {
        "id": "ticoqYD1Z3I7",
        "colab": {
          "base_uri": "https://localhost:8080/",
          "height": 261
        },
        "outputId": "49c93631-6cc6-44cf-a083-9b4dad6853b8"
      },
      "outputs": [
        {
          "output_type": "stream",
          "name": "stderr",
          "text": [
            "/usr/local/lib/python3.8/dist-packages/pandas/util/_decorators.py:311: ParserWarning: Falling back to the 'python' engine because the 'c' engine does not support regex separators (separators > 1 char and different from '\\s+' are interpreted as regex); you can avoid this warning by specifying engine='python'.\n",
            "  return func(*args, **kwargs)\n"
          ]
        },
        {
          "output_type": "execute_result",
          "data": {
            "text/plain": [
              "                                                   0\n",
              "0                                                  I\n",
              "1  En el año 1872, la casa número 7 de Saville-Ro...\n",
              "2  Por consiguiente, Phileas Fogg, personaje enig...\n",
              "3  Decíase que se daba un aire a lo Byron —su cab...\n",
              "4  Phileas Fogg, era inglés de pura cepa; pero qu..."
            ],
            "text/html": [
              "\n",
              "  <div id=\"df-f60a1b9d-2a3b-4ecc-9926-a72969788086\">\n",
              "    <div class=\"colab-df-container\">\n",
              "      <div>\n",
              "<style scoped>\n",
              "    .dataframe tbody tr th:only-of-type {\n",
              "        vertical-align: middle;\n",
              "    }\n",
              "\n",
              "    .dataframe tbody tr th {\n",
              "        vertical-align: top;\n",
              "    }\n",
              "\n",
              "    .dataframe thead th {\n",
              "        text-align: right;\n",
              "    }\n",
              "</style>\n",
              "<table border=\"1\" class=\"dataframe\">\n",
              "  <thead>\n",
              "    <tr style=\"text-align: right;\">\n",
              "      <th></th>\n",
              "      <th>0</th>\n",
              "    </tr>\n",
              "  </thead>\n",
              "  <tbody>\n",
              "    <tr>\n",
              "      <th>0</th>\n",
              "      <td>I</td>\n",
              "    </tr>\n",
              "    <tr>\n",
              "      <th>1</th>\n",
              "      <td>En el año 1872, la casa número 7 de Saville-Ro...</td>\n",
              "    </tr>\n",
              "    <tr>\n",
              "      <th>2</th>\n",
              "      <td>Por consiguiente, Phileas Fogg, personaje enig...</td>\n",
              "    </tr>\n",
              "    <tr>\n",
              "      <th>3</th>\n",
              "      <td>Decíase que se daba un aire a lo Byron —su cab...</td>\n",
              "    </tr>\n",
              "    <tr>\n",
              "      <th>4</th>\n",
              "      <td>Phileas Fogg, era inglés de pura cepa; pero qu...</td>\n",
              "    </tr>\n",
              "  </tbody>\n",
              "</table>\n",
              "</div>\n",
              "      <button class=\"colab-df-convert\" onclick=\"convertToInteractive('df-f60a1b9d-2a3b-4ecc-9926-a72969788086')\"\n",
              "              title=\"Convert this dataframe to an interactive table.\"\n",
              "              style=\"display:none;\">\n",
              "        \n",
              "  <svg xmlns=\"http://www.w3.org/2000/svg\" height=\"24px\"viewBox=\"0 0 24 24\"\n",
              "       width=\"24px\">\n",
              "    <path d=\"M0 0h24v24H0V0z\" fill=\"none\"/>\n",
              "    <path d=\"M18.56 5.44l.94 2.06.94-2.06 2.06-.94-2.06-.94-.94-2.06-.94 2.06-2.06.94zm-11 1L8.5 8.5l.94-2.06 2.06-.94-2.06-.94L8.5 2.5l-.94 2.06-2.06.94zm10 10l.94 2.06.94-2.06 2.06-.94-2.06-.94-.94-2.06-.94 2.06-2.06.94z\"/><path d=\"M17.41 7.96l-1.37-1.37c-.4-.4-.92-.59-1.43-.59-.52 0-1.04.2-1.43.59L10.3 9.45l-7.72 7.72c-.78.78-.78 2.05 0 2.83L4 21.41c.39.39.9.59 1.41.59.51 0 1.02-.2 1.41-.59l7.78-7.78 2.81-2.81c.8-.78.8-2.07 0-2.86zM5.41 20L4 18.59l7.72-7.72 1.47 1.35L5.41 20z\"/>\n",
              "  </svg>\n",
              "      </button>\n",
              "      \n",
              "  <style>\n",
              "    .colab-df-container {\n",
              "      display:flex;\n",
              "      flex-wrap:wrap;\n",
              "      gap: 12px;\n",
              "    }\n",
              "\n",
              "    .colab-df-convert {\n",
              "      background-color: #E8F0FE;\n",
              "      border: none;\n",
              "      border-radius: 50%;\n",
              "      cursor: pointer;\n",
              "      display: none;\n",
              "      fill: #1967D2;\n",
              "      height: 32px;\n",
              "      padding: 0 0 0 0;\n",
              "      width: 32px;\n",
              "    }\n",
              "\n",
              "    .colab-df-convert:hover {\n",
              "      background-color: #E2EBFA;\n",
              "      box-shadow: 0px 1px 2px rgba(60, 64, 67, 0.3), 0px 1px 3px 1px rgba(60, 64, 67, 0.15);\n",
              "      fill: #174EA6;\n",
              "    }\n",
              "\n",
              "    [theme=dark] .colab-df-convert {\n",
              "      background-color: #3B4455;\n",
              "      fill: #D2E3FC;\n",
              "    }\n",
              "\n",
              "    [theme=dark] .colab-df-convert:hover {\n",
              "      background-color: #434B5C;\n",
              "      box-shadow: 0px 1px 3px 1px rgba(0, 0, 0, 0.15);\n",
              "      filter: drop-shadow(0px 1px 2px rgba(0, 0, 0, 0.3));\n",
              "      fill: #FFFFFF;\n",
              "    }\n",
              "  </style>\n",
              "\n",
              "      <script>\n",
              "        const buttonEl =\n",
              "          document.querySelector('#df-f60a1b9d-2a3b-4ecc-9926-a72969788086 button.colab-df-convert');\n",
              "        buttonEl.style.display =\n",
              "          google.colab.kernel.accessAllowed ? 'block' : 'none';\n",
              "\n",
              "        async function convertToInteractive(key) {\n",
              "          const element = document.querySelector('#df-f60a1b9d-2a3b-4ecc-9926-a72969788086');\n",
              "          const dataTable =\n",
              "            await google.colab.kernel.invokeFunction('convertToInteractive',\n",
              "                                                     [key], {});\n",
              "          if (!dataTable) return;\n",
              "\n",
              "          const docLinkHtml = 'Like what you see? Visit the ' +\n",
              "            '<a target=\"_blank\" href=https://colab.research.google.com/notebooks/data_table.ipynb>data table notebook</a>'\n",
              "            + ' to learn more about interactive tables.';\n",
              "          element.innerHTML = '';\n",
              "          dataTable['output_type'] = 'display_data';\n",
              "          await google.colab.output.renderOutput(dataTable, element);\n",
              "          const docLink = document.createElement('div');\n",
              "          docLink.innerHTML = docLinkHtml;\n",
              "          element.appendChild(docLink);\n",
              "        }\n",
              "      </script>\n",
              "    </div>\n",
              "  </div>\n",
              "  "
            ]
          },
          "metadata": {},
          "execution_count": 2
        }
      ],
      "source": [
        "# Armar el dataset utilizando salto de línea para separar las oraciones/docs\n",
        "df = pd.read_csv(\"/content/La Vuelta al Mundo en 80 Días.txt\", sep = '/n', header = None)\n",
        "df.head()\n"
      ]
    },
    {
      "cell_type": "code",
      "execution_count": null,
      "metadata": {
        "id": "LEpKubK9XzXN",
        "colab": {
          "base_uri": "https://localhost:8080/"
        },
        "outputId": "2d0d4a11-c279-4a64-b2a5-2af9189020ca"
      },
      "outputs": [
        {
          "output_type": "stream",
          "name": "stdout",
          "text": [
            "Cantidad de documentos: 2022\n"
          ]
        }
      ],
      "source": [
        "print(\"Cantidad de documentos:\", df.shape[0])"
      ]
    },
    {
      "cell_type": "markdown",
      "metadata": {
        "id": "ab94qaFlrA1G"
      },
      "source": [
        "### 1 - Preprocesamiento"
      ]
    },
    {
      "cell_type": "markdown",
      "source": [
        "Se implementó en el preprocesamiento la función paera quitar acentos y caracteres especiales, números y símbolos de puntuación, ya que el corpus está en español."
      ],
      "metadata": {
        "id": "_bbX6lSyB3Cb"
      }
    },
    {
      "cell_type": "code",
      "source": [
        "import string\n",
        "import re\n",
        "import unicodedata\n",
        "\n",
        "def preprocess_clean_text(text):    \n",
        "    # sacar tildes de las palabras\n",
        "    text = unicodedata.normalize('NFKD', text).encode('ascii', 'ignore').decode('utf-8', 'ignore')\n",
        "    # quitar caracteres especiales\n",
        "    pattern = r'[^a-zA-z0-9.,!?/:;\\\"\\'\\s]' \n",
        "    text = re.sub(pattern, '', text)\n",
        "    pattern = r'[^a-zA-z.,!?/:;\\\"\\'\\s]' \n",
        "    # quitar números\n",
        "    text = re.sub(pattern, '', text)\n",
        "    # quitar caracteres de puntiación\n",
        "    text = ''.join([c for c in text if c not in string.punctuation])\n",
        "    return text"
      ],
      "metadata": {
        "id": "Qym9lbpl3F1q"
      },
      "execution_count": null,
      "outputs": []
    },
    {
      "cell_type": "code",
      "execution_count": null,
      "metadata": {
        "id": "rIsmMWmjrDHd"
      },
      "outputs": [],
      "source": [
        "from keras.preprocessing.text import text_to_word_sequence\n",
        "\n",
        "sentence_tokens = []\n",
        "# Recorrer todas las filas y transformar las oraciones\n",
        "# en una secuencia de palabras (esto podría realizarse con NLTK o spaCy también)\n",
        "for _, row in df[:None].iterrows():\n",
        "    frase = \" \".join([str(_) for _ in text_to_word_sequence(row[0])])\n",
        "    frase = preprocess_clean_text(frase)\n",
        "    frase = frase.split(' ')\n",
        "    sentence_tokens.append(frase)"
      ]
    },
    {
      "cell_type": "code",
      "execution_count": null,
      "metadata": {
        "id": "CHepi_DGrbhq",
        "colab": {
          "base_uri": "https://localhost:8080/"
        },
        "outputId": "a8a64562-7112-4cbc-8dc9-01bef84a0860"
      },
      "outputs": [
        {
          "output_type": "execute_result",
          "data": {
            "text/plain": [
              "[['i'],\n",
              " ['en',\n",
              "  'el',\n",
              "  'ano',\n",
              "  '',\n",
              "  'la',\n",
              "  'casa',\n",
              "  'numero',\n",
              "  '',\n",
              "  'de',\n",
              "  'saville',\n",
              "  'row',\n",
              "  'burlington',\n",
              "  'gardens',\n",
              "  'donde',\n",
              "  'murio',\n",
              "  'sheridan',\n",
              "  'en',\n",
              "  '',\n",
              "  'estaba',\n",
              "  'habitada',\n",
              "  'por',\n",
              "  'phileas',\n",
              "  'fogg',\n",
              "  'quien',\n",
              "  'a',\n",
              "  'pesar',\n",
              "  'de',\n",
              "  'que',\n",
              "  'parecia',\n",
              "  'haber',\n",
              "  'tomado',\n",
              "  'el',\n",
              "  'partido',\n",
              "  'de',\n",
              "  'no',\n",
              "  'hacer',\n",
              "  'nada',\n",
              "  'que',\n",
              "  'pudiese',\n",
              "  'llamar',\n",
              "  'la',\n",
              "  'atencion',\n",
              "  'era',\n",
              "  'uno',\n",
              "  'de',\n",
              "  'los',\n",
              "  'miembros',\n",
              "  'mas',\n",
              "  'notables',\n",
              "  'y',\n",
              "  'singulares',\n",
              "  'del',\n",
              "  'reformclub',\n",
              "  'de',\n",
              "  'londres']]"
            ]
          },
          "metadata": {},
          "execution_count": 41
        }
      ],
      "source": [
        "# Demos un vistazo\n",
        "sentence_tokens[:2]"
      ]
    },
    {
      "cell_type": "markdown",
      "metadata": {
        "id": "BaXV6nlHr5Aa"
      },
      "source": [
        "### 2 - Crear los vectores (word2vec)"
      ]
    },
    {
      "cell_type": "code",
      "execution_count": null,
      "metadata": {
        "id": "OSb0v7h8r7hK"
      },
      "outputs": [],
      "source": [
        "from gensim.models.callbacks import CallbackAny2Vec\n",
        "# Durante el entrenamiento gensim por defecto no informa el \"loss\" en cada época\n",
        "# Sobracargamos el callback para poder tener esta información\n",
        "class callback(CallbackAny2Vec):\n",
        "    \"\"\"\n",
        "    Callback to print loss after each epoch\n",
        "    \"\"\"\n",
        "    def __init__(self):\n",
        "        self.epoch = 0\n",
        "\n",
        "    def on_epoch_end(self, model):\n",
        "        loss = model.get_latest_training_loss()\n",
        "        if self.epoch == 0:\n",
        "            print('Loss after epoch {}: {}'.format(self.epoch, loss))\n",
        "            EPOCHS.append(0)\n",
        "            LOSS.append(loss)\n",
        "        else:\n",
        "            print('Loss after epoch {}: {}'.format(self.epoch, loss- self.loss_previous_step))\n",
        "            EPOCHS.append(self.epoch)\n",
        "            LOSS.append(loss-self.loss_previous_step)\n",
        "        self.epoch += 1\n",
        "        self.loss_previous_step = loss"
      ]
    },
    {
      "cell_type": "code",
      "execution_count": null,
      "metadata": {
        "id": "i0wnDdv9sJ47"
      },
      "outputs": [],
      "source": [
        "# Crearmos el modelo generador de vectoeres\n",
        "# En este caso utilizaremos la estructura modelo Skipgram\n",
        "w2v_model = Word2Vec(min_count=2,    # frecuencia mínima de palabra para incluirla en el vocabulario\n",
        "                     window=2,       # cant de palabras antes y desp de la predicha\n",
        "                     size=300,       # dimensionalidad de los vectores \n",
        "                     negative=20,    # cantidad de negative samples... 0 es no se usa\n",
        "                     workers=1,      # si tienen más cores pueden cambiar este valor\n",
        "                     sg=1)           # modelo 0:CBOW  1:skipgram"
      ]
    },
    {
      "cell_type": "code",
      "execution_count": null,
      "metadata": {
        "id": "5lTt8wErsf17"
      },
      "outputs": [],
      "source": [
        "# Buildear el vocabularui con los tokens\n",
        "w2v_model.build_vocab(sentence_tokens)"
      ]
    },
    {
      "cell_type": "code",
      "execution_count": null,
      "metadata": {
        "id": "TNc9qt4os5AT",
        "colab": {
          "base_uri": "https://localhost:8080/"
        },
        "outputId": "046567be-1535-4f97-c701-b07f7b572110"
      },
      "outputs": [
        {
          "output_type": "stream",
          "name": "stdout",
          "text": [
            "Cantidad de docs en el corpus: 2022\n"
          ]
        }
      ],
      "source": [
        "# Cantidad de filas/docs encontradas en el corpus\n",
        "print(\"Cantidad de docs en el corpus:\", w2v_model.corpus_count)"
      ]
    },
    {
      "cell_type": "code",
      "execution_count": null,
      "metadata": {
        "id": "idw9cHF3tSMl",
        "colab": {
          "base_uri": "https://localhost:8080/"
        },
        "outputId": "a745417c-efe9-4554-8f9d-c8504f36a776"
      },
      "outputs": [
        {
          "output_type": "stream",
          "name": "stdout",
          "text": [
            "Cantidad de words distintas en el corpus: 4081\n"
          ]
        }
      ],
      "source": [
        "# Cantidad de words encontradas en el corpus\n",
        "print(\"Cantidad de words distintas en el corpus:\", len(w2v_model.wv.vocab))"
      ]
    },
    {
      "cell_type": "markdown",
      "metadata": {
        "id": "fC9mZ8DPk-UC"
      },
      "source": [
        "### 3 - Entrenar el modelo generador"
      ]
    },
    {
      "cell_type": "code",
      "execution_count": null,
      "metadata": {
        "id": "QSp-x0PAsq56",
        "colab": {
          "base_uri": "https://localhost:8080/"
        },
        "outputId": "167f1438-0348-4755-8612-cd359aed15d6"
      },
      "outputs": [
        {
          "output_type": "stream",
          "name": "stdout",
          "text": [
            "Loss after epoch 0: 798867.0625\n",
            "Loss after epoch 1: 469075.8125\n",
            "Loss after epoch 2: 419141.25\n",
            "Loss after epoch 3: 409420.125\n",
            "Loss after epoch 4: 350608.5\n",
            "Loss after epoch 5: 348575.25\n",
            "Loss after epoch 6: 346738.25\n",
            "Loss after epoch 7: 344321.0\n",
            "Loss after epoch 8: 340872.5\n",
            "Loss after epoch 9: 338856.0\n",
            "Loss after epoch 10: 318410.25\n",
            "Loss after epoch 11: 311334.0\n",
            "Loss after epoch 12: 310526.5\n",
            "Loss after epoch 13: 303931.5\n",
            "Loss after epoch 14: 302514.0\n",
            "Loss after epoch 15: 298656.0\n",
            "Loss after epoch 16: 293181.5\n",
            "Loss after epoch 17: 290210.5\n",
            "Loss after epoch 18: 286074.5\n",
            "Loss after epoch 19: 282582.0\n",
            "Loss after epoch 20: 279380.5\n",
            "Loss after epoch 21: 274086.5\n",
            "Loss after epoch 22: 271455.5\n",
            "Loss after epoch 23: 268582.0\n",
            "Loss after epoch 24: 259338.0\n",
            "Loss after epoch 25: 248004.0\n",
            "Loss after epoch 26: 245569.0\n",
            "Loss after epoch 27: 240866.0\n",
            "Loss after epoch 28: 238885.0\n",
            "Loss after epoch 29: 236622.0\n",
            "Loss after epoch 30: 234864.0\n",
            "Loss after epoch 31: 232001.0\n",
            "Loss after epoch 32: 229182.0\n",
            "Loss after epoch 33: 225752.0\n",
            "Loss after epoch 34: 223720.0\n",
            "Loss after epoch 35: 223724.0\n",
            "Loss after epoch 36: 222055.0\n",
            "Loss after epoch 37: 219746.0\n",
            "Loss after epoch 38: 218091.0\n",
            "Loss after epoch 39: 214799.0\n",
            "Loss after epoch 40: 216287.0\n",
            "Loss after epoch 41: 212857.0\n",
            "Loss after epoch 42: 212891.0\n",
            "Loss after epoch 43: 211314.0\n",
            "Loss after epoch 44: 208937.0\n",
            "Loss after epoch 45: 207873.0\n",
            "Loss after epoch 46: 206482.0\n",
            "Loss after epoch 47: 206232.0\n",
            "Loss after epoch 48: 206654.0\n",
            "Loss after epoch 49: 204064.0\n",
            "Loss after epoch 50: 203050.0\n",
            "Loss after epoch 51: 202288.0\n",
            "Loss after epoch 52: 201101.0\n",
            "Loss after epoch 53: 200600.0\n",
            "Loss after epoch 54: 199784.0\n",
            "Loss after epoch 55: 199746.0\n",
            "Loss after epoch 56: 196765.0\n",
            "Loss after epoch 57: 197126.0\n",
            "Loss after epoch 58: 194918.0\n",
            "Loss after epoch 59: 195035.0\n",
            "Loss after epoch 60: 194145.0\n",
            "Loss after epoch 61: 193582.0\n",
            "Loss after epoch 62: 193283.0\n",
            "Loss after epoch 63: 188411.0\n",
            "Loss after epoch 64: 170078.0\n",
            "Loss after epoch 65: 168170.0\n",
            "Loss after epoch 66: 167724.0\n",
            "Loss after epoch 67: 166504.0\n",
            "Loss after epoch 68: 166332.0\n",
            "Loss after epoch 69: 166392.0\n",
            "Loss after epoch 70: 163492.0\n",
            "Loss after epoch 71: 166892.0\n",
            "Loss after epoch 72: 162664.0\n",
            "Loss after epoch 73: 166618.0\n",
            "Loss after epoch 74: 165042.0\n",
            "Loss after epoch 75: 163512.0\n",
            "Loss after epoch 76: 163932.0\n",
            "Loss after epoch 77: 165082.0\n",
            "Loss after epoch 78: 161456.0\n",
            "Loss after epoch 79: 162782.0\n",
            "Loss after epoch 80: 161388.0\n",
            "Loss after epoch 81: 161538.0\n",
            "Loss after epoch 82: 161594.0\n",
            "Loss after epoch 83: 160816.0\n",
            "Loss after epoch 84: 159786.0\n",
            "Loss after epoch 85: 160052.0\n",
            "Loss after epoch 86: 159762.0\n",
            "Loss after epoch 87: 158788.0\n",
            "Loss after epoch 88: 158400.0\n",
            "Loss after epoch 89: 159038.0\n",
            "Loss after epoch 90: 158468.0\n",
            "Loss after epoch 91: 158372.0\n",
            "Loss after epoch 92: 159222.0\n",
            "Loss after epoch 93: 157044.0\n",
            "Loss after epoch 94: 158456.0\n",
            "Loss after epoch 95: 156440.0\n",
            "Loss after epoch 96: 156126.0\n",
            "Loss after epoch 97: 156122.0\n",
            "Loss after epoch 98: 155542.0\n",
            "Loss after epoch 99: 156284.0\n"
          ]
        },
        {
          "output_type": "execute_result",
          "data": {
            "text/plain": [
              "(4126994, 6505200)"
            ]
          },
          "metadata": {},
          "execution_count": 50
        }
      ],
      "source": [
        "# Entrenamos el modelo generador de vectores\n",
        "# Utilizamos nuestro callback\n",
        "EPOCHS=[]\n",
        "LOSS=[] \n",
        "w2v_model.train(sentence_tokens,\n",
        "                 total_examples=w2v_model.corpus_count,\n",
        "                 epochs=100,\n",
        "                 compute_loss = True,\n",
        "                 callbacks=[callback()]\n",
        "                 )"
      ]
    },
    {
      "cell_type": "code",
      "source": [
        "plt.plot(EPOCHS, LOSS)\n",
        "plt.show()\n"
      ],
      "metadata": {
        "colab": {
          "base_uri": "https://localhost:8080/",
          "height": 265
        },
        "id": "yK68ZpbAsik1",
        "outputId": "15c8adfe-83e7-4216-bfa2-d852751fb6c6"
      },
      "execution_count": null,
      "outputs": [
        {
          "output_type": "display_data",
          "data": {
            "text/plain": [
              "<Figure size 432x288 with 1 Axes>"
            ],
            "image/png": "[encoded data removed]"
          },
          "metadata": {
            "needs_background": "light"
          }
        }
      ]
    },
    {
      "cell_type": "markdown",
      "metadata": {
        "id": "ddT9NVuNlCAe"
      },
      "source": [
        "### 4 - Ensayar"
      ]
    },
    {
      "cell_type": "markdown",
      "source": [
        "Para verificar los resultados del entrenamiento, se prueba con los nombres de los protagonistas y de algunos de sus destinos en la historia como palabras de entrada."
      ],
      "metadata": {
        "id": "2vh6_l0GDb2u"
      }
    },
    {
      "cell_type": "code",
      "execution_count": null,
      "metadata": {
        "id": "6cHN9xGLuPEm",
        "colab": {
          "base_uri": "https://localhost:8080/"
        },
        "outputId": "b75beaed-0e29-4d43-c7b9-acd4e20b9040"
      },
      "outputs": [
        {
          "output_type": "execute_result",
          "data": {
            "text/plain": [
              "[('fogg', 0.5945820808410645),\n",
              " ('insistio', 0.42266547679901123),\n",
              " ('cualidad', 0.4167048931121826),\n",
              " ('leas', 0.41467100381851196),\n",
              " ('inmovil', 0.40422677993774414),\n",
              " ('dirigiendose', 0.40383368730545044),\n",
              " ('partir', 0.39321237802505493),\n",
              " ('avisado', 0.3845151960849762),\n",
              " ('gentieman', 0.38434547185897827),\n",
              " ('lectura', 0.3839886784553528)]"
            ]
          },
          "metadata": {},
          "execution_count": 52
        }
      ],
      "source": [
        "# Palabras que MÁS se relacionan con...:\n",
        "palabra='phileas'\n",
        "w2v_model.wv.most_similar(positive=[palabra], topn=10)"
      ]
    },
    {
      "cell_type": "code",
      "execution_count": null,
      "metadata": {
        "id": "47HiU5gdkdMq",
        "colab": {
          "base_uri": "https://localhost:8080/"
        },
        "outputId": "3df772ae-a3d9-4470-e613-4c5f07a072bb"
      },
      "outputs": [
        {
          "output_type": "execute_result",
          "data": {
            "text/plain": [
              "[('hombres', 0.009611077606678009),\n",
              " ('nuestra', 0.005752895027399063),\n",
              " ('esas', 0.0008283518254756927),\n",
              " ('ella', 0.00037241727113723755),\n",
              " ('opio', -1.5305355191230774e-05),\n",
              " ('uso', -0.00336149288341403),\n",
              " ('sometido', -0.004724152386188507),\n",
              " ('celeste', -0.00659041665494442),\n",
              " ('vaivenes', -0.0069693829864263535),\n",
              " ('oriental', -0.008824408054351807)]"
            ]
          },
          "metadata": {},
          "execution_count": 53
        }
      ],
      "source": [
        "# Palabras que MENOS se relacionan con...:\n",
        "palabra='phileas'\n",
        "w2v_model.wv.most_similar(negative=[palabra], topn=10)"
      ]
    },
    {
      "cell_type": "markdown",
      "source": [
        "Al ingresar el nombre del protagonista, es interesante que la primera palabra con la que lo relaciona es su apellido, además de algunos verbos y adjetivos coherentes con el personaje."
      ],
      "metadata": {
        "id": "MVGPTtKTD8Ug"
      }
    },
    {
      "cell_type": "code",
      "execution_count": null,
      "metadata": {
        "id": "DT4Rvno2mD65",
        "colab": {
          "base_uri": "https://localhost:8080/"
        },
        "outputId": "ccddc2c1-cb96-4117-dd72-5ecea0695461"
      },
      "outputs": [
        {
          "output_type": "execute_result",
          "data": {
            "text/plain": [
              "[('juan', 0.41251808404922485),\n",
              " ('ambas', 0.3962543308734894),\n",
              " ('reia', 0.3934762477874756),\n",
              " ('decian', 0.3700038194656372),\n",
              " ('resueltamente', 0.36446771025657654),\n",
              " ('altamente', 0.36443832516670227),\n",
              " ('contenerse', 0.362531840801239),\n",
              " ('maquinalmente', 0.35960596799850464),\n",
              " ('ireis', 0.35596078634262085),\n",
              " ('oidos', 0.3534070551395416)]"
            ]
          },
          "metadata": {},
          "execution_count": 59
        }
      ],
      "source": [
        "# Palabras que MÁS se relacionan con...:\n",
        "palabra='picaporte'\n",
        "w2v_model.wv.most_similar(positive=[palabra], topn=10)"
      ]
    },
    {
      "cell_type": "markdown",
      "source": [
        "Con el otro protagonista se probó ingresando su apellido y el resultado fue parecido: la palabra con más relación es su nombre."
      ],
      "metadata": {
        "id": "H56tj7yPElOl"
      }
    },
    {
      "cell_type": "code",
      "execution_count": null,
      "metadata": {
        "id": "XPLDPgzBmQXt",
        "colab": {
          "base_uri": "https://localhost:8080/"
        },
        "outputId": "11b66c2c-784f-4d86-eb3a-1893b77162f0"
      },
      "outputs": [
        {
          "output_type": "execute_result",
          "data": {
            "text/plain": [
              "[('turin', 0.5076457262039185),\n",
              " ('italianos', 0.4827249050140381),\n",
              " ('cenis', 0.4649501442909241),\n",
              " ('octubre', 0.45472753047943115),\n",
              " ('precipitacion', 0.4531911015510559),\n",
              " ('mania', 0.4431685507297516),\n",
              " ('nueva', 0.443110853433609),\n",
              " ('aplastado', 0.440049409866333),\n",
              " ('broadway', 0.438859760761261),\n",
              " ('antipodas', 0.43722987174987793)]"
            ]
          },
          "metadata": {},
          "execution_count": 65
        }
      ],
      "source": [
        "# Palabras que MÁS se relacionan con...:\n",
        "palabra='londres'\n",
        "w2v_model.wv.most_similar(positive=[palabra], topn=10)"
      ]
    },
    {
      "cell_type": "markdown",
      "source": [
        "Cuando se probó con la palabra \"Londres\", que es el punto de partida del viaje en el libro, el modelo la relacionó con palabras como \"Turín\" (ciudad por la que pasan cuando se dirigen a Egipto), \"italianos\" (directamente relacionada con Turín) y \"octubre\" (mes en el que comenzaron el viaje)."
      ],
      "metadata": {
        "id": "2T144bOlFHyM"
      }
    },
    {
      "cell_type": "code",
      "execution_count": null,
      "metadata": {
        "id": "L_UvHPMMklOr",
        "colab": {
          "base_uri": "https://localhost:8080/",
          "height": 346
        },
        "outputId": "6b38a94d-fea7-48c8-c038-6911bd71f20c"
      },
      "outputs": [
        {
          "output_type": "error",
          "ename": "KeyError",
          "evalue": "ignored",
          "traceback": [
            "\u001b[0;31m---------------------------------------------------------------------------\u001b[0m",
            "\u001b[0;31mKeyError\u001b[0m                                  Traceback (most recent call last)",
            "\u001b[0;32m<ipython-input-56-2f0846293240>\u001b[0m in \u001b[0;36m<module>\u001b[0;34m\u001b[0m\n\u001b[1;32m      1\u001b[0m \u001b[0;31m# Ensayar con una palabra que no está en el corpus (en vocab):\u001b[0m\u001b[0;34m\u001b[0m\u001b[0;34m\u001b[0m\u001b[0;34m\u001b[0m\u001b[0m\n\u001b[1;32m      2\u001b[0m \u001b[0mpalabra\u001b[0m\u001b[0;34m=\u001b[0m\u001b[0;34m'verne'\u001b[0m\u001b[0;34m\u001b[0m\u001b[0;34m\u001b[0m\u001b[0m\n\u001b[0;32m----> 3\u001b[0;31m \u001b[0mw2v_model\u001b[0m\u001b[0;34m.\u001b[0m\u001b[0mwv\u001b[0m\u001b[0;34m.\u001b[0m\u001b[0mmost_similar\u001b[0m\u001b[0;34m(\u001b[0m\u001b[0mnegative\u001b[0m\u001b[0;34m=\u001b[0m\u001b[0;34m[\u001b[0m\u001b[0mpalabra\u001b[0m\u001b[0;34m]\u001b[0m\u001b[0;34m)\u001b[0m\u001b[0;34m\u001b[0m\u001b[0;34m\u001b[0m\u001b[0m\n\u001b[0m",
            "\u001b[0;32m/usr/local/lib/python3.8/dist-packages/gensim/models/keyedvectors.py\u001b[0m in \u001b[0;36mmost_similar\u001b[0;34m(self, positive, negative, topn, restrict_vocab, indexer)\u001b[0m\n\u001b[1;32m    529\u001b[0m                 \u001b[0mmean\u001b[0m\u001b[0;34m.\u001b[0m\u001b[0mappend\u001b[0m\u001b[0;34m(\u001b[0m\u001b[0mweight\u001b[0m \u001b[0;34m*\u001b[0m \u001b[0mword\u001b[0m\u001b[0;34m)\u001b[0m\u001b[0;34m\u001b[0m\u001b[0;34m\u001b[0m\u001b[0m\n\u001b[1;32m    530\u001b[0m             \u001b[0;32melse\u001b[0m\u001b[0;34m:\u001b[0m\u001b[0;34m\u001b[0m\u001b[0;34m\u001b[0m\u001b[0m\n\u001b[0;32m--> 531\u001b[0;31m                 \u001b[0mmean\u001b[0m\u001b[0;34m.\u001b[0m\u001b[0mappend\u001b[0m\u001b[0;34m(\u001b[0m\u001b[0mweight\u001b[0m \u001b[0;34m*\u001b[0m \u001b[0mself\u001b[0m\u001b[0;34m.\u001b[0m\u001b[0mword_vec\u001b[0m\u001b[0;34m(\u001b[0m\u001b[0mword\u001b[0m\u001b[0;34m,\u001b[0m \u001b[0muse_norm\u001b[0m\u001b[0;34m=\u001b[0m\u001b[0;32mTrue\u001b[0m\u001b[0;34m)\u001b[0m\u001b[0;34m)\u001b[0m\u001b[0;34m\u001b[0m\u001b[0;34m\u001b[0m\u001b[0m\n\u001b[0m\u001b[1;32m    532\u001b[0m                 \u001b[0;32mif\u001b[0m \u001b[0mword\u001b[0m \u001b[0;32min\u001b[0m \u001b[0mself\u001b[0m\u001b[0;34m.\u001b[0m\u001b[0mvocab\u001b[0m\u001b[0;34m:\u001b[0m\u001b[0;34m\u001b[0m\u001b[0;34m\u001b[0m\u001b[0m\n\u001b[1;32m    533\u001b[0m                     \u001b[0mall_words\u001b[0m\u001b[0;34m.\u001b[0m\u001b[0madd\u001b[0m\u001b[0;34m(\u001b[0m\u001b[0mself\u001b[0m\u001b[0;34m.\u001b[0m\u001b[0mvocab\u001b[0m\u001b[0;34m[\u001b[0m\u001b[0mword\u001b[0m\u001b[0;34m]\u001b[0m\u001b[0;34m.\u001b[0m\u001b[0mindex\u001b[0m\u001b[0;34m)\u001b[0m\u001b[0;34m\u001b[0m\u001b[0;34m\u001b[0m\u001b[0m\n",
            "\u001b[0;32m/usr/local/lib/python3.8/dist-packages/gensim/models/keyedvectors.py\u001b[0m in \u001b[0;36mword_vec\u001b[0;34m(self, word, use_norm)\u001b[0m\n\u001b[1;32m    450\u001b[0m             \u001b[0;32mreturn\u001b[0m \u001b[0mresult\u001b[0m\u001b[0;34m\u001b[0m\u001b[0;34m\u001b[0m\u001b[0m\n\u001b[1;32m    451\u001b[0m         \u001b[0;32melse\u001b[0m\u001b[0;34m:\u001b[0m\u001b[0;34m\u001b[0m\u001b[0;34m\u001b[0m\u001b[0m\n\u001b[0;32m--> 452\u001b[0;31m             \u001b[0;32mraise\u001b[0m \u001b[0mKeyError\u001b[0m\u001b[0;34m(\u001b[0m\u001b[0;34m\"word '%s' not in vocabulary\"\u001b[0m \u001b[0;34m%\u001b[0m \u001b[0mword\u001b[0m\u001b[0;34m)\u001b[0m\u001b[0;34m\u001b[0m\u001b[0;34m\u001b[0m\u001b[0m\n\u001b[0m\u001b[1;32m    453\u001b[0m \u001b[0;34m\u001b[0m\u001b[0m\n\u001b[1;32m    454\u001b[0m     \u001b[0;32mdef\u001b[0m \u001b[0mget_vector\u001b[0m\u001b[0;34m(\u001b[0m\u001b[0mself\u001b[0m\u001b[0;34m,\u001b[0m \u001b[0mword\u001b[0m\u001b[0;34m)\u001b[0m\u001b[0;34m:\u001b[0m\u001b[0;34m\u001b[0m\u001b[0;34m\u001b[0m\u001b[0m\n",
            "\u001b[0;31mKeyError\u001b[0m: \"word 'verne' not in vocabulary\""
          ]
        }
      ],
      "source": [
        "# Ensayar con una palabra que no está en el corpus (en vocab):\n",
        "palabra='verne'\n",
        "w2v_model.wv.most_similar(negative=[palabra])"
      ]
    },
    {
      "cell_type": "markdown",
      "source": [
        "Para verificar que el modelo no relaciona palabras que no existen en el corpus, se probó con el apellido del autor y el resultado fue favorable."
      ],
      "metadata": {
        "id": "woehMihoGZu0"
      }
    },
    {
      "cell_type": "markdown",
      "metadata": {
        "id": "_g8UVWe6lFmh"
      },
      "source": [
        "### 5 - Visualizar agrupación de vectores"
      ]
    },
    {
      "cell_type": "code",
      "execution_count": null,
      "metadata": {
        "id": "pDxEVXAivjr9"
      },
      "outputs": [],
      "source": [
        "from sklearn.decomposition import IncrementalPCA    \n",
        "from sklearn.manifold import TSNE                   \n",
        "import numpy as np                                  \n",
        "\n",
        "def reduce_dimensions(model):\n",
        "    num_dimensions = 2  \n",
        "\n",
        "    vectors = np.asarray(model.wv.vectors)\n",
        "    labels = np.asarray(model.wv.index2word)  \n",
        "\n",
        "    tsne = TSNE(n_components=num_dimensions, random_state=0)\n",
        "    vectors = tsne.fit_transform(vectors)\n",
        "\n",
        "    x_vals = [v[0] for v in vectors]\n",
        "    y_vals = [v[1] for v in vectors]\n",
        "    return x_vals, y_vals, labels"
      ]
    },
    {
      "cell_type": "code",
      "execution_count": null,
      "metadata": {
        "id": "NCCXtDpcugmd",
        "colab": {
          "base_uri": "https://localhost:8080/",
          "height": 681
        },
        "outputId": "dc11545e-3ea1-4051-c0d8-80fc53895605"
      },
      "outputs": [
        {
          "output_type": "stream",
          "name": "stderr",
          "text": [
            "/usr/local/lib/python3.8/dist-packages/sklearn/manifold/_t_sne.py:780: FutureWarning:\n",
            "\n",
            "The default initialization in TSNE will change from 'random' to 'pca' in 1.2.\n",
            "\n",
            "/usr/local/lib/python3.8/dist-packages/sklearn/manifold/_t_sne.py:790: FutureWarning:\n",
            "\n",
            "The default learning rate in TSNE will change from 200.0 to 'auto' in 1.2.\n",
            "\n"
          ]
        },
        {
          "output_type": "display_data",
          "data": {
            "text/html": [
              "<html>\n",
              "<head><meta charset=\"utf-8\" /></head>\n",
              "<body>\n",
              "    <div>            <script src=\"https://cdnjs.cloudflare.com/ajax/libs/mathjax/2.7.5/MathJax.js?config=TeX-AMS-MML_SVG\"></script><script type=\"text/javascript\">if (window.MathJax) {MathJax.Hub.Config({SVG: {font: \"STIX-Web\"}});}</script>                <script type=\"text/javascript\">window.PlotlyConfig = {MathJaxConfig: 'local'};</script>\n",
              "        <script src=\"https://cdn.plot.ly/plotly-2.8.3.min.js\"></script>                <div id=\"a9e26c33-204e-4622-97b8-19f96bad02f7\" class=\"plotly-graph-div\" style=\"height:525px; width:100%;\"></div>            <script type=\"text/javascript\">                                    window.PLOTLYENV=window.PLOTLYENV || {};                                    if (document.getElementById(\"a9e26c33-204e-4622-97b8-19f96bad02f7\")) {                    Plotly.newPlot(                        \"a9e26c33-204e-4622-97b8-19f96bad02f7\",                        [{\"hovertemplate\":\"x=%{x}<br>y=%{y}<br>text=%{text}<extra></extra>\",\"legendgroup\":\"\",\"marker\":{\"color\":\"#636efa\",\"symbol\":\"circle\"},\"mode\":\"markers+text\",\"name\":\"\",\"orientation\":\"v\",\"showlegend\":false,\"text\":[\"de\",\"el\",\"la\",\"y\",\"que\",\"a\",\"en\",\"se\",\"no\",\"los\",\"del\",\"por\",\"las\",\"su\",\"con\",\"un\",\"fogg\",\"al\",\"una\",\"picaporte\",\"lo\",\"habia\",\"pero\",\"mas\",\"para\",\"mister\",\"phileas\",\"era\",\"fix\",\"sus\",\"si\",\"como\",\"es\",\"sin\",\"le\",\"despues\",\"respondio\",\"estaba\",\"sobre\",\"\",\"dijo\",\"todo\",\"esta\",\"ni\",\"bien\",\"cuando\",\"este\",\"ya\",\"aouida\",\"entre\",\"hasta\",\"muy\",\"mil\",\"dos\",\"tren\",\"tan\",\"amo\",\"o\",\"vapor\",\"ese\",\"hubiera\",\"tiempo\",\"dia\",\"dias\",\"hacia\",\"horas\",\"senor\",\"aquel\",\"durante\",\"podia\",\"me\",\"mistress\",\"debia\",\"cual\",\"haber\",\"porque\",\"algunos\",\"tenia\",\"quien\",\"entonces\",\"estacion\",\"donde\",\"mi\",\"alli\",\"cinco\",\"solo\",\"pues\",\"fue\",\"habian\",\"millas\",\"momento\",\"parte\",\"pregunto\",\"ocho\",\"menos\",\"libras\",\"hombre\",\"tres\",\"vez\",\"os\",\"nada\",\"viajeros\",\"sido\",\"hora\",\"uno\",\"esto\",\"toda\",\"viaje\",\"joven\",\"hongkong\",\"noche\",\"mundo\",\"minutos\",\"veinte\",\"bombay\",\"londres\",\"fin\",\"desde\",\"todos\",\"tarde\",\"exclamo\",\"aquella\",\"medio\",\"ha\",\"asi\",\"policia\",\"iba\",\"mismo\",\"gran\",\"aun\",\"antes\",\"poco\",\"ciudad\",\"algunas\",\"agente\",\"sir\",\"francis\",\"hacer\",\"criado\",\"manana\",\"eso\",\"efecto\",\"yo\",\"gentleman\",\"club\",\"unos\",\"he\",\"mar\",\"esa\",\"inspector\",\"aqui\",\"otro\",\"paso\",\"hizo\",\"todavia\",\"llegar\",\"bordo\",\"ser\",\"sino\",\"parecia\",\"hay\",\"cuanto\",\"media\",\"embargo\",\"luego\",\"casa\",\"bajo\",\"otra\",\"velocidad\",\"todas\",\"capitan\",\"eran\",\"ahora\",\"vuestro\",\"mucho\",\"salida\",\"yokohama\",\"banco\",\"cuarenta\",\"esos\",\"buque\",\"cromarty\",\"decir\",\"veces\",\"cuatro\",\"seis\",\"cincuenta\",\"marcha\",\"viento\",\"guia\",\"siempre\",\"mano\",\"punto\",\"inglaterra\",\"modo\",\"diez\",\"tambien\",\"son\",\"caballero\",\"siguiente\"],\"x\":[10.224993705749512,28.85130500793457,-19.232797622680664,-11.092089653015137,-1.0753841400146484,37.45106506347656,-11.67219352722168,21.159231185913086,3.1613707542419434,-24.610191345214844,5.5809502601623535,12.456297874450684,-37.053443908691406,7.192922115325928,1.7149677276611328,26.3426513671875,37.14493942260742,17.104154586791992,-49.05523681640625,19.04325294494629,16.470596313476562,16.590030670166016,30.325157165527344,10.807202339172363,15.451016426086426,37.077423095703125,37.247737884521484,-4.821436882019043,33.298072814941406,-21.364103317260742,22.29327392578125,12.295528411865234,5.4502692222595215,5.889721393585205,34.52102279663086,21.607730865478516,13.540813446044922,23.232120513916016,-13.058939933776855,6.901732921600342,29.765933990478516,-12.898550987243652,-5.8913960456848145,-40.07976150512695,19.061025619506836,5.371342658996582,20.860702514648438,-7.958105564117432,28.810022354125977,-37.592185974121094,2.3433399200439453,24.85047721862793,-19.96710777282715,14.385016441345215,16.03366470336914,-2.8328003883361816,8.56615924835205,-10.638710021972656,14.987608909606934,7.357295036315918,1.117123007774353,-8.967344284057617,6.350783348083496,5.676458835601807,39.46642303466797,12.632965087890625,23.88053321838379,28.84780502319336,4.191103935241699,19.757415771484375,10.062152862548828,28.741979598999023,13.478860855102539,9.470128059387207,20.72385597229004,19.59742546081543,11.163039207458496,15.04647445678711,16.95941925048828,4.210272312164307,20.737600326538086,17.621204376220703,-2.99920392036438,7.4332475662231445,16.193204879760742,6.883017063140869,17.635066986083984,23.932836532592773,-28.705923080444336,-18.808979034423828,25.548595428466797,-10.497891426086426,23.491497039794922,7.107723236083984,15.833038330078125,47.9183464050293,9.012434005737305,6.226703643798828,2.0091023445129395,1.4046449661254883,21.470354080200195,-31.19835090637207,-10.02972412109375,19.48146629333496,-39.98683166503906,34.00820541381836,9.068964004516602,-9.486581802368164,27.919458389282227,17.75144386291504,3.748765468597412,24.038406372070312,7.000524997711182,-21.513521194458008,-35.11418151855469,-30.762144088745117,7.272177219390869,-20.293668746948242,-31.861186981201172,16.922710418701172,12.578051567077637,-0.7988869547843933,-11.441219329833984,13.723464965820312,26.81162452697754,30.185487747192383,25.06147003173828,26.70344352722168,-4.12164831161499,-35.95485305786133,15.67868423461914,18.73754119873047,-5.1195902824401855,-46.32389450073242,17.719392776489258,44.22087478637695,44.48487854003906,14.344904899597168,-1.5115982294082642,3.610123634338379,27.662025451660156,27.551528930664062,22.021320343017578,35.52755355834961,42.55809783935547,-26.342958450317383,-8.920744895935059,9.582670211791992,-39.5821647644043,17.8978328704834,-13.411550521850586,6.980890274047852,16.53353500366211,24.329683303833008,13.173818588256836,26.205764770507812,43.80070114135742,14.824466705322266,8.358858108520508,-1.503396987915039,-4.425765514373779,18.634281158447266,6.190787315368652,8.518370628356934,25.681732177734375,5.529943466186523,0.6422438621520996,-8.847718238830566,-21.816917419433594,-45.53765106201172,31.107786178588867,-29.020984649658203,25.66908073425293,6.0214924812316895,3.4321398735046387,10.649818420410156,18.371917724609375,-47.21352767944336,7.300361156463623,-28.74821662902832,22.80189323425293,44.68724822998047,13.307710647583008,-30.898767471313477,12.128087997436523,13.395289421081543,-23.450336456298828,12.431556701660156,15.355287551879883,17.572187423706055,-3.476963996887207,22.719039916992188,19.731876373291016,-23.76106071472168,2.0310168266296387,6.863884925842285,38.9846305847168,-29.05162239074707,17.82094955444336,17.79497718811035],\"xaxis\":\"x\",\"y\":[48.61699676513672,30.34226417541504,-42.8737678527832,-42.51613235473633,-44.40831756591797,12.628798484802246,-40.020347595214844,13.164111137390137,-43.9487190246582,-2.6273577213287354,17.636995315551758,18.44341278076172,8.818073272705078,-6.900617599487305,0.7316052317619324,31.61797523498535,-17.970977783203125,5.35250186920166,-0.018392140045762062,-19.20703125,-20.749006271362305,-11.289512634277344,-35.488990783691406,4.812718391418457,-35.52857208251953,-18.061769485473633,-17.90190315246582,-1.996303677558899,-14.231563568115234,7.4089789390563965,-23.72842025756836,-40.74473190307617,-28.315725326538086,-15.214700698852539,-29.748268127441406,5.9961652755737305,-25.960227966308594,21.925655364990234,18.053573608398438,35.41109848022461,-17.279979705810547,7.478585720062256,-0.09543327987194061,8.076786041259766,-26.88759422302246,8.070725440979004,-42.94758605957031,-45.92332458496094,2.6737658977508545,20.770755767822266,6.495014667510986,-40.89204406738281,43.75428771972656,9.481297492980957,21.2989444732666,3.652590274810791,-16.015167236328125,12.029337882995605,29.061519622802734,-39.65119552612305,-17.12864112854004,0.24605782330036163,36.75414276123047,27.5606689453125,17.027860641479492,8.687767028808594,-24.999143600463867,-4.09443473815918,41.40738296508789,-45.742610931396484,-38.78036117553711,2.801326274871826,12.30557632446289,0.5428676009178162,7.531791687011719,-29.872663497924805,9.255512237548828,-34.19466781616211,-13.335886001586914,5.5051093101501465,24.42405891418457,17.407331466674805,-29.515995025634766,-5.338061809539795,10.550688743591309,12.704349517822266,-26.98062515258789,25.519287109375,-8.394857406616211,42.265403747558594,-3.755067825317383,41.53653335571289,-31.130016326904297,29.449012756347656,2.8629860877990723,-10.185253143310547,-27.0909481048584,28.25804328918457,-47.64867401123047,-25.19106101989746,-25.61393928527832,31.604421615600586,-25.45294952392578,24.254148483276367,1.9691091775894165,-33.646759033203125,40.86043930053711,-9.224637985229492,-5.530533313751221,-37.72943115234375,42.10130310058594,-16.957103729248047,27.36210823059082,40.970680236816406,-20.034475326538086,-21.038349151611328,-3.2364187240600586,-14.689860343933105,-12.36793041229248,12.49243450164795,-39.0178337097168,40.08634948730469,40.81142807006836,-43.367061614990234,28.952289581298828,-13.054424285888672,-5.610019207000732,6.7461018562316895,22.824426651000977,30.337915420532227,11.644572257995605,29.129920959472656,38.41270446777344,14.908559799194336,-21.448457717895508,-13.586950302124023,-13.617337226867676,-38.42717361450195,-19.215919494628906,34.450721740722656,-21.406251907348633,34.220401763916016,-27.004457473754883,-10.02515697479248,3.1382570266723633,29.202526092529297,-27.154163360595703,40.27001953125,-10.859787940979004,-20.056358337402344,-29.41143035888672,-12.601541519165039,23.98853302001953,8.30234432220459,9.9691801071167,11.688060760498047,-20.954345703125,-20.94167709350586,-4.006326675415039,-2.189683437347412,-38.32960891723633,-16.74483871459961,25.856595993041992,-11.769171714782715,26.949228286743164,50.51847457885742,20.43157958984375,2.327261447906494,27.919918060302734,1.4681342840194702,-29.74381446838379,6.638695240020752,-31.24846076965332,-25.131473541259766,-20.354047775268555,33.68644714355469,-36.090423583984375,-5.6169915199279785,28.097335815429688,1.4460381269454956,-14.929170608520508,-13.6308012008667,-32.29348373413086,20.267621994018555,10.748907089233398,6.06049108505249,41.90079879760742,35.801143646240234,34.468475341796875,-0.3677036166191101,3.1276614665985107,-0.08444257080554962,18.101696014404297,-30.226587295532227,-38.78112030029297,43.45754623413086,-25.87181854248047,-2.0520687103271484,-31.22418975830078,4.530348300933838],\"yaxis\":\"y\",\"type\":\"scatter\"}],                        {\"template\":{\"data\":{\"bar\":[{\"error_x\":{\"color\":\"#2a3f5f\"},\"error_y\":{\"color\":\"#2a3f5f\"},\"marker\":{\"line\":{\"color\":\"#E5ECF6\",\"width\":0.5},\"pattern\":{\"fillmode\":\"overlay\",\"size\":10,\"solidity\":0.2}},\"type\":\"bar\"}],\"barpolar\":[{\"marker\":{\"line\":{\"color\":\"#E5ECF6\",\"width\":0.5},\"pattern\":{\"fillmode\":\"overlay\",\"size\":10,\"solidity\":0.2}},\"type\":\"barpolar\"}],\"carpet\":[{\"aaxis\":{\"endlinecolor\":\"#2a3f5f\",\"gridcolor\":\"white\",\"linecolor\":\"white\",\"minorgridcolor\":\"white\",\"startlinecolor\":\"#2a3f5f\"},\"baxis\":{\"endlinecolor\":\"#2a3f5f\",\"gridcolor\":\"white\",\"linecolor\":\"white\",\"minorgridcolor\":\"white\",\"startlinecolor\":\"#2a3f5f\"},\"type\":\"carpet\"}],\"choropleth\":[{\"colorbar\":{\"outlinewidth\":0,\"ticks\":\"\"},\"type\":\"choropleth\"}],\"contour\":[{\"colorbar\":{\"outlinewidth\":0,\"ticks\":\"\"},\"colorscale\":[[0.0,\"#0d0887\"],[0.1111111111111111,\"#46039f\"],[0.2222222222222222,\"#7201a8\"],[0.3333333333333333,\"#9c179e\"],[0.4444444444444444,\"#bd3786\"],[0.5555555555555556,\"#d8576b\"],[0.6666666666666666,\"#ed7953\"],[0.7777777777777778,\"#fb9f3a\"],[0.8888888888888888,\"#fdca26\"],[1.0,\"#f0f921\"]],\"type\":\"contour\"}],\"contourcarpet\":[{\"colorbar\":{\"outlinewidth\":0,\"ticks\":\"\"},\"type\":\"contourcarpet\"}],\"heatmap\":[{\"colorbar\":{\"outlinewidth\":0,\"ticks\":\"\"},\"colorscale\":[[0.0,\"#0d0887\"],[0.1111111111111111,\"#46039f\"],[0.2222222222222222,\"#7201a8\"],[0.3333333333333333,\"#9c179e\"],[0.4444444444444444,\"#bd3786\"],[0.5555555555555556,\"#d8576b\"],[0.6666666666666666,\"#ed7953\"],[0.7777777777777778,\"#fb9f3a\"],[0.8888888888888888,\"#fdca26\"],[1.0,\"#f0f921\"]],\"type\":\"heatmap\"}],\"heatmapgl\":[{\"colorbar\":{\"outlinewidth\":0,\"ticks\":\"\"},\"colorscale\":[[0.0,\"#0d0887\"],[0.1111111111111111,\"#46039f\"],[0.2222222222222222,\"#7201a8\"],[0.3333333333333333,\"#9c179e\"],[0.4444444444444444,\"#bd3786\"],[0.5555555555555556,\"#d8576b\"],[0.6666666666666666,\"#ed7953\"],[0.7777777777777778,\"#fb9f3a\"],[0.8888888888888888,\"#fdca26\"],[1.0,\"#f0f921\"]],\"type\":\"heatmapgl\"}],\"histogram\":[{\"marker\":{\"pattern\":{\"fillmode\":\"overlay\",\"size\":10,\"solidity\":0.2}},\"type\":\"histogram\"}],\"histogram2d\":[{\"colorbar\":{\"outlinewidth\":0,\"ticks\":\"\"},\"colorscale\":[[0.0,\"#0d0887\"],[0.1111111111111111,\"#46039f\"],[0.2222222222222222,\"#7201a8\"],[0.3333333333333333,\"#9c179e\"],[0.4444444444444444,\"#bd3786\"],[0.5555555555555556,\"#d8576b\"],[0.6666666666666666,\"#ed7953\"],[0.7777777777777778,\"#fb9f3a\"],[0.8888888888888888,\"#fdca26\"],[1.0,\"#f0f921\"]],\"type\":\"histogram2d\"}],\"histogram2dcontour\":[{\"colorbar\":{\"outlinewidth\":0,\"ticks\":\"\"},\"colorscale\":[[0.0,\"#0d0887\"],[0.1111111111111111,\"#46039f\"],[0.2222222222222222,\"#7201a8\"],[0.3333333333333333,\"#9c179e\"],[0.4444444444444444,\"#bd3786\"],[0.5555555555555556,\"#d8576b\"],[0.6666666666666666,\"#ed7953\"],[0.7777777777777778,\"#fb9f3a\"],[0.8888888888888888,\"#fdca26\"],[1.0,\"#f0f921\"]],\"type\":\"histogram2dcontour\"}],\"mesh3d\":[{\"colorbar\":{\"outlinewidth\":0,\"ticks\":\"\"},\"type\":\"mesh3d\"}],\"parcoords\":[{\"line\":{\"colorbar\":{\"outlinewidth\":0,\"ticks\":\"\"}},\"type\":\"parcoords\"}],\"pie\":[{\"automargin\":true,\"type\":\"pie\"}],\"scatter\":[{\"marker\":{\"colorbar\":{\"outlinewidth\":0,\"ticks\":\"\"}},\"type\":\"scatter\"}],\"scatter3d\":[{\"line\":{\"colorbar\":{\"outlinewidth\":0,\"ticks\":\"\"}},\"marker\":{\"colorbar\":{\"outlinewidth\":0,\"ticks\":\"\"}},\"type\":\"scatter3d\"}],\"scattercarpet\":[{\"marker\":{\"colorbar\":{\"outlinewidth\":0,\"ticks\":\"\"}},\"type\":\"scattercarpet\"}],\"scattergeo\":[{\"marker\":{\"colorbar\":{\"outlinewidth\":0,\"ticks\":\"\"}},\"type\":\"scattergeo\"}],\"scattergl\":[{\"marker\":{\"colorbar\":{\"outlinewidth\":0,\"ticks\":\"\"}},\"type\":\"scattergl\"}],\"scattermapbox\":[{\"marker\":{\"colorbar\":{\"outlinewidth\":0,\"ticks\":\"\"}},\"type\":\"scattermapbox\"}],\"scatterpolar\":[{\"marker\":{\"colorbar\":{\"outlinewidth\":0,\"ticks\":\"\"}},\"type\":\"scatterpolar\"}],\"scatterpolargl\":[{\"marker\":{\"colorbar\":{\"outlinewidth\":0,\"ticks\":\"\"}},\"type\":\"scatterpolargl\"}],\"scatterternary\":[{\"marker\":{\"colorbar\":{\"outlinewidth\":0,\"ticks\":\"\"}},\"type\":\"scatterternary\"}],\"surface\":[{\"colorbar\":{\"outlinewidth\":0,\"ticks\":\"\"},\"colorscale\":[[0.0,\"#0d0887\"],[0.1111111111111111,\"#46039f\"],[0.2222222222222222,\"#7201a8\"],[0.3333333333333333,\"#9c179e\"],[0.4444444444444444,\"#bd3786\"],[0.5555555555555556,\"#d8576b\"],[0.6666666666666666,\"#ed7953\"],[0.7777777777777778,\"#fb9f3a\"],[0.8888888888888888,\"#fdca26\"],[1.0,\"#f0f921\"]],\"type\":\"surface\"}],\"table\":[{\"cells\":{\"fill\":{\"color\":\"#EBF0F8\"},\"line\":{\"color\":\"white\"}},\"header\":{\"fill\":{\"color\":\"#C8D4E3\"},\"line\":{\"color\":\"white\"}},\"type\":\"table\"}]},\"layout\":{\"annotationdefaults\":{\"arrowcolor\":\"#2a3f5f\",\"arrowhead\":0,\"arrowwidth\":1},\"autotypenumbers\":\"strict\",\"coloraxis\":{\"colorbar\":{\"outlinewidth\":0,\"ticks\":\"\"}},\"colorscale\":{\"diverging\":[[0,\"#8e0152\"],[0.1,\"#c51b7d\"],[0.2,\"#de77ae\"],[0.3,\"#f1b6da\"],[0.4,\"#fde0ef\"],[0.5,\"#f7f7f7\"],[0.6,\"#e6f5d0\"],[0.7,\"#b8e186\"],[0.8,\"#7fbc41\"],[0.9,\"#4d9221\"],[1,\"#276419\"]],\"sequential\":[[0.0,\"#0d0887\"],[0.1111111111111111,\"#46039f\"],[0.2222222222222222,\"#7201a8\"],[0.3333333333333333,\"#9c179e\"],[0.4444444444444444,\"#bd3786\"],[0.5555555555555556,\"#d8576b\"],[0.6666666666666666,\"#ed7953\"],[0.7777777777777778,\"#fb9f3a\"],[0.8888888888888888,\"#fdca26\"],[1.0,\"#f0f921\"]],\"sequentialminus\":[[0.0,\"#0d0887\"],[0.1111111111111111,\"#46039f\"],[0.2222222222222222,\"#7201a8\"],[0.3333333333333333,\"#9c179e\"],[0.4444444444444444,\"#bd3786\"],[0.5555555555555556,\"#d8576b\"],[0.6666666666666666,\"#ed7953\"],[0.7777777777777778,\"#fb9f3a\"],[0.8888888888888888,\"#fdca26\"],[1.0,\"#f0f921\"]]},\"colorway\":[\"#636efa\",\"#EF553B\",\"#00cc96\",\"#ab63fa\",\"#FFA15A\",\"#19d3f3\",\"#FF6692\",\"#B6E880\",\"#FF97FF\",\"#FECB52\"],\"font\":{\"color\":\"#2a3f5f\"},\"geo\":{\"bgcolor\":\"white\",\"lakecolor\":\"white\",\"landcolor\":\"#E5ECF6\",\"showlakes\":true,\"showland\":true,\"subunitcolor\":\"white\"},\"hoverlabel\":{\"align\":\"left\"},\"hovermode\":\"closest\",\"mapbox\":{\"style\":\"light\"},\"paper_bgcolor\":\"white\",\"plot_bgcolor\":\"#E5ECF6\",\"polar\":{\"angularaxis\":{\"gridcolor\":\"white\",\"linecolor\":\"white\",\"ticks\":\"\"},\"bgcolor\":\"#E5ECF6\",\"radialaxis\":{\"gridcolor\":\"white\",\"linecolor\":\"white\",\"ticks\":\"\"}},\"scene\":{\"xaxis\":{\"backgroundcolor\":\"#E5ECF6\",\"gridcolor\":\"white\",\"gridwidth\":2,\"linecolor\":\"white\",\"showbackground\":true,\"ticks\":\"\",\"zerolinecolor\":\"white\"},\"yaxis\":{\"backgroundcolor\":\"#E5ECF6\",\"gridcolor\":\"white\",\"gridwidth\":2,\"linecolor\":\"white\",\"showbackground\":true,\"ticks\":\"\",\"zerolinecolor\":\"white\"},\"zaxis\":{\"backgroundcolor\":\"#E5ECF6\",\"gridcolor\":\"white\",\"gridwidth\":2,\"linecolor\":\"white\",\"showbackground\":true,\"ticks\":\"\",\"zerolinecolor\":\"white\"}},\"shapedefaults\":{\"line\":{\"color\":\"#2a3f5f\"}},\"ternary\":{\"aaxis\":{\"gridcolor\":\"white\",\"linecolor\":\"white\",\"ticks\":\"\"},\"baxis\":{\"gridcolor\":\"white\",\"linecolor\":\"white\",\"ticks\":\"\"},\"bgcolor\":\"#E5ECF6\",\"caxis\":{\"gridcolor\":\"white\",\"linecolor\":\"white\",\"ticks\":\"\"}},\"title\":{\"x\":0.05},\"xaxis\":{\"automargin\":true,\"gridcolor\":\"white\",\"linecolor\":\"white\",\"ticks\":\"\",\"title\":{\"standoff\":15},\"zerolinecolor\":\"white\",\"zerolinewidth\":2},\"yaxis\":{\"automargin\":true,\"gridcolor\":\"white\",\"linecolor\":\"white\",\"ticks\":\"\",\"title\":{\"standoff\":15},\"zerolinecolor\":\"white\",\"zerolinewidth\":2}}},\"xaxis\":{\"anchor\":\"y\",\"domain\":[0.0,1.0],\"title\":{\"text\":\"x\"}},\"yaxis\":{\"anchor\":\"x\",\"domain\":[0.0,1.0],\"title\":{\"text\":\"y\"}},\"legend\":{\"tracegroupgap\":0},\"margin\":{\"t\":60}},                        {\"responsive\": true}                    ).then(function(){\n",
              "                            \n",
              "var gd = document.getElementById('a9e26c33-204e-4622-97b8-19f96bad02f7');\n",
              "var x = new MutationObserver(function (mutations, observer) {{\n",
              "        var display = window.getComputedStyle(gd).display;\n",
              "        if (!display || display === 'none') {{\n",
              "            console.log([gd, 'removed!']);\n",
              "            Plotly.purge(gd);\n",
              "            observer.disconnect();\n",
              "        }}\n",
              "}});\n",
              "\n",
              "// Listen for the removal of the full notebook cells\n",
              "var notebookContainer = gd.closest('#notebook-container');\n",
              "if (notebookContainer) {{\n",
              "    x.observe(notebookContainer, {childList: true});\n",
              "}}\n",
              "\n",
              "// Listen for the clearing of the current output cell\n",
              "var outputEl = gd.closest('.output');\n",
              "if (outputEl) {{\n",
              "    x.observe(outputEl, {childList: true});\n",
              "}}\n",
              "\n",
              "                        })                };                            </script>        </div>\n",
              "</body>\n",
              "</html>"
            ]
          },
          "metadata": {}
        }
      ],
      "source": [
        "# Graficar los embedddings en 2D\n",
        "import plotly.graph_objects as go\n",
        "import plotly.express as px\n",
        "\n",
        "x_vals, y_vals, labels = reduce_dimensions(w2v_model)\n",
        "\n",
        "MAX_WORDS=200\n",
        "fig = px.scatter(x=x_vals[:MAX_WORDS], y=y_vals[:MAX_WORDS], text=labels[:MAX_WORDS])\n",
        "fig.show(renderer=\"colab\") # esto para plotly en colab"
      ]
    }
  ],
  "metadata": {
    "colab": {
      "provenance": []
    },
    "kernelspec": {
      "display_name": "Python 3",
      "language": "python",
      "name": "python3"
    },
    "language_info": {
      "codemirror_mode": {
        "name": "ipython",
        "version": 3
      },
      "file_extension": ".py",
      "mimetype": "text/x-python",
      "name": "python",
      "nbconvert_exporter": "python",
      "pygments_lexer": "ipython3",
      "version": "3.8.10"
    }
  },
  "nbformat": 4,
  "nbformat_minor": 0
}